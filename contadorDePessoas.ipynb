{
  "nbformat": 4,
  "nbformat_minor": 0,
  "metadata": {
    "colab": {
      "name": "contadorDePessoas.ipynb",
      "provenance": [],
      "collapsed_sections": [],
      "include_colab_link": true
    },
    "kernelspec": {
      "name": "python3",
      "display_name": "Python 3"
    }
  },
  "cells": [
    {
      "cell_type": "markdown",
      "metadata": {
        "id": "view-in-github",
        "colab_type": "text"
      },
      "source": [
        "<a href=\"https://colab.research.google.com/github/lucasmaarques/sistemaClassificador_T1/blob/master/contadorDePessoas.ipynb\" target=\"_parent\"><img src=\"https://colab.research.google.com/assets/colab-badge.svg\" alt=\"Open In Colab\"/></a>"
      ]
    },
    {
      "cell_type": "code",
      "metadata": {
        "id": "ZgXue6qAcaWH",
        "colab_type": "code",
        "colab": {}
      },
      "source": [
        "from IPython.display import display, Javascript\n",
        "from google.colab.output import eval_js\n",
        "from base64 import b64decode\n",
        "\n",
        "def take_photo(filename='photo.jpg', quality=0.8):\n",
        "  js = Javascript('''\n",
        "    async function takePhoto(quality) {\n",
        "      const div = document.createElement('div');\n",
        "      const capture = document.createElement('button');\n",
        "      capture.textContent = 'Capture';\n",
        "      div.appendChild(capture);\n",
        "\n",
        "      const video = document.createElement('video');\n",
        "      video.style.display = 'block';\n",
        "      const stream = await navigator.mediaDevices.getUserMedia({video: true});\n",
        "\n",
        "      document.body.appendChild(div);\n",
        "      div.appendChild(video);\n",
        "      video.srcObject = stream;\n",
        "      await video.play();\n",
        "\n",
        "      // Resize the output to fit the video element.\n",
        "      google.colab.output.setIframeHeight(document.documentElement.scrollHeight, true);\n",
        "\n",
        "      // Wait for Capture to be clicked.\n",
        "      // await new Promise((resolve) => capture.onclick = resolve);\n",
        "\n",
        "      const canvas = document.createElement('canvas');\n",
        "      canvas.width = video.videoWidth;\n",
        "      canvas.height = video.videoHeight;\n",
        "      canvas.getContext('2d').drawImage(video, 0, 0);\n",
        "      stream.getVideoTracks()[0].stop();\n",
        "      div.remove();\n",
        "      return canvas.toDataURL('image/jpeg', quality);\n",
        "    }\n",
        "    ''')\n",
        "  display(js)\n",
        "  data = eval_js('takePhoto({})'.format(quality))\n",
        "  binary = b64decode(data.split(',')[1])\n",
        "  with open(filename, 'wb') as f:\n",
        "    f.write(binary)\n",
        "  return filename"
      ],
      "execution_count": null,
      "outputs": []
    },
    {
      "cell_type": "code",
      "metadata": {
        "id": "K3zY333bcoMC",
        "colab_type": "code",
        "colab": {
          "base_uri": "https://localhost:8080/",
          "height": 514
        },
        "outputId": "56a86ae4-c5c6-4388-88bf-3dd38d94664f"
      },
      "source": [
        "from IPython.display import Image\n",
        "try:\n",
        "  filename = take_photo()\n",
        "  print('Saved to {}'.format(filename))\n",
        "  \n",
        "  # Show the image which was just taken.\n",
        "  display(Image(filename))\n",
        "except Exception as err:\n",
        "  # Errors will be thrown if the user does not have a webcam or if they do not\n",
        "  # grant the page permission to access it.\n",
        "  print(str(err))"
      ],
      "execution_count": null,
      "outputs": [
        {
          "output_type": "display_data",
          "data": {
            "application/javascript": [
              "\n",
              "    async function takePhoto(quality) {\n",
              "      const div = document.createElement('div');\n",
              "      const capture = document.createElement('button');\n",
              "      capture.textContent = 'Capture';\n",
              "      div.appendChild(capture);\n",
              "\n",
              "      const video = document.createElement('video');\n",
              "      video.style.display = 'block';\n",
              "      const stream = await navigator.mediaDevices.getUserMedia({video: true});\n",
              "\n",
              "      document.body.appendChild(div);\n",
              "      div.appendChild(video);\n",
              "      video.srcObject = stream;\n",
              "      await video.play();\n",
              "\n",
              "      // Resize the output to fit the video element.\n",
              "      google.colab.output.setIframeHeight(document.documentElement.scrollHeight, true);\n",
              "\n",
              "      // Wait for Capture to be clicked.\n",
              "      // await new Promise((resolve) => capture.onclick = resolve);\n",
              "\n",
              "      const canvas = document.createElement('canvas');\n",
              "      canvas.width = video.videoWidth;\n",
              "      canvas.height = video.videoHeight;\n",
              "      canvas.getContext('2d').drawImage(video, 0, 0);\n",
              "      stream.getVideoTracks()[0].stop();\n",
              "      div.remove();\n",
              "      return canvas.toDataURL('image/jpeg', quality);\n",
              "    }\n",
              "    "
            ],
            "text/plain": [
              "<IPython.core.display.Javascript object>"
            ]
          },
          "metadata": {
            "tags": []
          }
        },
        {
          "output_type": "stream",
          "text": [
            "Saved to photo.jpg\n"
          ],
          "name": "stdout"
        },
        {
          "output_type": "display_data",
          "data": {
            "image/jpeg": "[encoded data removed]",
            "text/plain": [
              "<IPython.core.display.Image object>"
            ]
          },
          "metadata": {
            "tags": []
          }
        }
      ]
    },
    {
      "cell_type": "code",
      "metadata": {
        "id": "uyBgci9gctWi",
        "colab_type": "code",
        "colab": {
          "base_uri": "https://localhost:8080/",
          "height": 17
        },
        "outputId": "35b0a454-ee24-4ae9-857c-94a69bcf849e"
      },
      "source": [
        "imagem = take_photo('s24_00.jpg')"
      ],
      "execution_count": null,
      "outputs": [
        {
          "output_type": "display_data",
          "data": {
            "application/javascript": [
              "\n",
              "    async function takePhoto(quality) {\n",
              "      const div = document.createElement('div');\n",
              "      const capture = document.createElement('button');\n",
              "      capture.textContent = 'Capture';\n",
              "      div.appendChild(capture);\n",
              "\n",
              "      const video = document.createElement('video');\n",
              "      video.style.display = 'block';\n",
              "      const stream = await navigator.mediaDevices.getUserMedia({video: true});\n",
              "\n",
              "      document.body.appendChild(div);\n",
              "      div.appendChild(video);\n",
              "      video.srcObject = stream;\n",
              "      await video.play();\n",
              "\n",
              "      // Resize the output to fit the video element.\n",
              "      google.colab.output.setIframeHeight(document.documentElement.scrollHeight, true);\n",
              "\n",
              "      // Wait for Capture to be clicked.\n",
              "      // await new Promise((resolve) => capture.onclick = resolve);\n",
              "\n",
              "      const canvas = document.createElement('canvas');\n",
              "      canvas.width = video.videoWidth;\n",
              "      canvas.height = video.videoHeight;\n",
              "      canvas.getContext('2d').drawImage(video, 0, 0);\n",
              "      stream.getVideoTracks()[0].stop();\n",
              "      div.remove();\n",
              "      return canvas.toDataURL('image/jpeg', quality);\n",
              "    }\n",
              "    "
            ],
            "text/plain": [
              "<IPython.core.display.Javascript object>"
            ]
          },
          "metadata": {
            "tags": []
          }
        }
      ]
    },
    {
      "cell_type": "code",
      "metadata": {
        "id": "Zc4zhBoMcwRy",
        "colab_type": "code",
        "colab": {
          "base_uri": "https://localhost:8080/",
          "height": 34
        },
        "outputId": "ac9efbcf-9562-4ba0-a69b-14a9d60dc5ce"
      },
      "source": [
        "print(imagem)"
      ],
      "execution_count": null,
      "outputs": [
        {
          "output_type": "stream",
          "text": [
            "s24_00.jpg\n"
          ],
          "name": "stdout"
        }
      ]
    },
    {
      "cell_type": "code",
      "metadata": {
        "id": "LTLRH921c0A5",
        "colab_type": "code",
        "colab": {
          "base_uri": "https://localhost:8080/",
          "height": 187
        },
        "outputId": "ffccccc6-e13e-4f0a-8be6-2b3ec20df320"
      },
      "source": [
        "path_base = '/content/drive/My Drive/DataSetImagens/'\n",
        "treino = 'treino/'\n",
        "teste = 'teste/'\n",
        "limiar = 7\n",
        "meuCodigo = '05'\n",
        "for i in range(10):\n",
        "  if i < limiar:\n",
        "    imagem = take_photo(path_base+treino+'s%s_%02i.jpg' % (meuCodigo, i))\n",
        "  else:  \n",
        "    imagem = take_photo(path_base+teste+'s%s_%02i.jpg' % (meuCodigo, i))\n",
        "  print(imagem)"
      ],
      "execution_count": null,
      "outputs": [
        {
          "output_type": "display_data",
          "data": {
            "application/javascript": [
              "\n",
              "    async function takePhoto(quality) {\n",
              "      const div = document.createElement('div');\n",
              "      const capture = document.createElement('button');\n",
              "      capture.textContent = 'Capture';\n",
              "      div.appendChild(capture);\n",
              "\n",
              "      const video = document.createElement('video');\n",
              "      video.style.display = 'block';\n",
              "      const stream = await navigator.mediaDevices.getUserMedia({video: true});\n",
              "\n",
              "      document.body.appendChild(div);\n",
              "      div.appendChild(video);\n",
              "      video.srcObject = stream;\n",
              "      await video.play();\n",
              "\n",
              "      // Resize the output to fit the video element.\n",
              "      google.colab.output.setIframeHeight(document.documentElement.scrollHeight, true);\n",
              "\n",
              "      // Wait for Capture to be clicked.\n",
              "      // await new Promise((resolve) => capture.onclick = resolve);\n",
              "\n",
              "      const canvas = document.createElement('canvas');\n",
              "      canvas.width = video.videoWidth;\n",
              "      canvas.height = video.videoHeight;\n",
              "      canvas.getContext('2d').drawImage(video, 0, 0);\n",
              "      stream.getVideoTracks()[0].stop();\n",
              "      div.remove();\n",
              "      return canvas.toDataURL('image/jpeg', quality);\n",
              "    }\n",
              "    "
            ],
            "text/plain": [
              "<IPython.core.display.Javascript object>"
            ]
          },
          "metadata": {
            "tags": []
          }
        },
        {
          "output_type": "stream",
          "text": [
            "/content/drive/My Drive/DataSetImagens/treino/s05_00.jpg\n"
          ],
          "name": "stdout"
        },
        {
          "output_type": "display_data",
          "data": {
            "application/javascript": [
              "\n",
              "    async function takePhoto(quality) {\n",
              "      const div = document.createElement('div');\n",
              "      const capture = document.createElement('button');\n",
              "      capture.textContent = 'Capture';\n",
              "      div.appendChild(capture);\n",
              "\n",
              "      const video = document.createElement('video');\n",
              "      video.style.display = 'block';\n",
              "      const stream = await navigator.mediaDevices.getUserMedia({video: true});\n",
              "\n",
              "      document.body.appendChild(div);\n",
              "      div.appendChild(video);\n",
              "      video.srcObject = stream;\n",
              "      await video.play();\n",
              "\n",
              "      // Resize the output to fit the video element.\n",
              "      google.colab.output.setIframeHeight(document.documentElement.scrollHeight, true);\n",
              "\n",
              "      // Wait for Capture to be clicked.\n",
              "      // await new Promise((resolve) => capture.onclick = resolve);\n",
              "\n",
              "      const canvas = document.createElement('canvas');\n",
              "      canvas.width = video.videoWidth;\n",
              "      canvas.height = video.videoHeight;\n",
              "      canvas.getContext('2d').drawImage(video, 0, 0);\n",
              "      stream.getVideoTracks()[0].stop();\n",
              "      div.remove();\n",
              "      return canvas.toDataURL('image/jpeg', quality);\n",
              "    }\n",
              "    "
            ],
            "text/plain": [
              "<IPython.core.display.Javascript object>"
            ]
          },
          "metadata": {
            "tags": []
          }
        },
        {
          "output_type": "stream",
          "text": [
            "/content/drive/My Drive/DataSetImagens/treino/s05_01.jpg\n"
          ],
          "name": "stdout"
        },
        {
          "output_type": "display_data",
          "data": {
            "application/javascript": [
              "\n",
              "    async function takePhoto(quality) {\n",
              "      const div = document.createElement('div');\n",
              "      const capture = document.createElement('button');\n",
              "      capture.textContent = 'Capture';\n",
              "      div.appendChild(capture);\n",
              "\n",
              "      const video = document.createElement('video');\n",
              "      video.style.display = 'block';\n",
              "      const stream = await navigator.mediaDevices.getUserMedia({video: true});\n",
              "\n",
              "      document.body.appendChild(div);\n",
              "      div.appendChild(video);\n",
              "      video.srcObject = stream;\n",
              "      await video.play();\n",
              "\n",
              "      // Resize the output to fit the video element.\n",
              "      google.colab.output.setIframeHeight(document.documentElement.scrollHeight, true);\n",
              "\n",
              "      // Wait for Capture to be clicked.\n",
              "      // await new Promise((resolve) => capture.onclick = resolve);\n",
              "\n",
              "      const canvas = document.createElement('canvas');\n",
              "      canvas.width = video.videoWidth;\n",
              "      canvas.height = video.videoHeight;\n",
              "      canvas.getContext('2d').drawImage(video, 0, 0);\n",
              "      stream.getVideoTracks()[0].stop();\n",
              "      div.remove();\n",
              "      return canvas.toDataURL('image/jpeg', quality);\n",
              "    }\n",
              "    "
            ],
            "text/plain": [
              "<IPython.core.display.Javascript object>"
            ]
          },
          "metadata": {
            "tags": []
          }
        },
        {
          "output_type": "stream",
          "text": [
            "/content/drive/My Drive/DataSetImagens/treino/s05_02.jpg\n"
          ],
          "name": "stdout"
        },
        {
          "output_type": "display_data",
          "data": {
            "application/javascript": [
              "\n",
              "    async function takePhoto(quality) {\n",
              "      const div = document.createElement('div');\n",
              "      const capture = document.createElement('button');\n",
              "      capture.textContent = 'Capture';\n",
              "      div.appendChild(capture);\n",
              "\n",
              "      const video = document.createElement('video');\n",
              "      video.style.display = 'block';\n",
              "      const stream = await navigator.mediaDevices.getUserMedia({video: true});\n",
              "\n",
              "      document.body.appendChild(div);\n",
              "      div.appendChild(video);\n",
              "      video.srcObject = stream;\n",
              "      await video.play();\n",
              "\n",
              "      // Resize the output to fit the video element.\n",
              "      google.colab.output.setIframeHeight(document.documentElement.scrollHeight, true);\n",
              "\n",
              "      // Wait for Capture to be clicked.\n",
              "      // await new Promise((resolve) => capture.onclick = resolve);\n",
              "\n",
              "      const canvas = document.createElement('canvas');\n",
              "      canvas.width = video.videoWidth;\n",
              "      canvas.height = video.videoHeight;\n",
              "      canvas.getContext('2d').drawImage(video, 0, 0);\n",
              "      stream.getVideoTracks()[0].stop();\n",
              "      div.remove();\n",
              "      return canvas.toDataURL('image/jpeg', quality);\n",
              "    }\n",
              "    "
            ],
            "text/plain": [
              "<IPython.core.display.Javascript object>"
            ]
          },
          "metadata": {
            "tags": []
          }
        },
        {
          "output_type": "stream",
          "text": [
            "/content/drive/My Drive/DataSetImagens/treino/s05_03.jpg\n"
          ],
          "name": "stdout"
        },
        {
          "output_type": "display_data",
          "data": {
            "application/javascript": [
              "\n",
              "    async function takePhoto(quality) {\n",
              "      const div = document.createElement('div');\n",
              "      const capture = document.createElement('button');\n",
              "      capture.textContent = 'Capture';\n",
              "      div.appendChild(capture);\n",
              "\n",
              "      const video = document.createElement('video');\n",
              "      video.style.display = 'block';\n",
              "      const stream = await navigator.mediaDevices.getUserMedia({video: true});\n",
              "\n",
              "      document.body.appendChild(div);\n",
              "      div.appendChild(video);\n",
              "      video.srcObject = stream;\n",
              "      await video.play();\n",
              "\n",
              "      // Resize the output to fit the video element.\n",
              "      google.colab.output.setIframeHeight(document.documentElement.scrollHeight, true);\n",
              "\n",
              "      // Wait for Capture to be clicked.\n",
              "      // await new Promise((resolve) => capture.onclick = resolve);\n",
              "\n",
              "      const canvas = document.createElement('canvas');\n",
              "      canvas.width = video.videoWidth;\n",
              "      canvas.height = video.videoHeight;\n",
              "      canvas.getContext('2d').drawImage(video, 0, 0);\n",
              "      stream.getVideoTracks()[0].stop();\n",
              "      div.remove();\n",
              "      return canvas.toDataURL('image/jpeg', quality);\n",
              "    }\n",
              "    "
            ],
            "text/plain": [
              "<IPython.core.display.Javascript object>"
            ]
          },
          "metadata": {
            "tags": []
          }
        },
        {
          "output_type": "stream",
          "text": [
            "/content/drive/My Drive/DataSetImagens/treino/s05_04.jpg\n"
          ],
          "name": "stdout"
        },
        {
          "output_type": "display_data",
          "data": {
            "application/javascript": [
              "\n",
              "    async function takePhoto(quality) {\n",
              "      const div = document.createElement('div');\n",
              "      const capture = document.createElement('button');\n",
              "      capture.textContent = 'Capture';\n",
              "      div.appendChild(capture);\n",
              "\n",
              "      const video = document.createElement('video');\n",
              "      video.style.display = 'block';\n",
              "      const stream = await navigator.mediaDevices.getUserMedia({video: true});\n",
              "\n",
              "      document.body.appendChild(div);\n",
              "      div.appendChild(video);\n",
              "      video.srcObject = stream;\n",
              "      await video.play();\n",
              "\n",
              "      // Resize the output to fit the video element.\n",
              "      google.colab.output.setIframeHeight(document.documentElement.scrollHeight, true);\n",
              "\n",
              "      // Wait for Capture to be clicked.\n",
              "      // await new Promise((resolve) => capture.onclick = resolve);\n",
              "\n",
              "      const canvas = document.createElement('canvas');\n",
              "      canvas.width = video.videoWidth;\n",
              "      canvas.height = video.videoHeight;\n",
              "      canvas.getContext('2d').drawImage(video, 0, 0);\n",
              "      stream.getVideoTracks()[0].stop();\n",
              "      div.remove();\n",
              "      return canvas.toDataURL('image/jpeg', quality);\n",
              "    }\n",
              "    "
            ],
            "text/plain": [
              "<IPython.core.display.Javascript object>"
            ]
          },
          "metadata": {
            "tags": []
          }
        },
        {
          "output_type": "stream",
          "text": [
            "/content/drive/My Drive/DataSetImagens/treino/s05_05.jpg\n"
          ],
          "name": "stdout"
        },
        {
          "output_type": "display_data",
          "data": {
            "application/javascript": [
              "\n",
              "    async function takePhoto(quality) {\n",
              "      const div = document.createElement('div');\n",
              "      const capture = document.createElement('button');\n",
              "      capture.textContent = 'Capture';\n",
              "      div.appendChild(capture);\n",
              "\n",
              "      const video = document.createElement('video');\n",
              "      video.style.display = 'block';\n",
              "      const stream = await navigator.mediaDevices.getUserMedia({video: true});\n",
              "\n",
              "      document.body.appendChild(div);\n",
              "      div.appendChild(video);\n",
              "      video.srcObject = stream;\n",
              "      await video.play();\n",
              "\n",
              "      // Resize the output to fit the video element.\n",
              "      google.colab.output.setIframeHeight(document.documentElement.scrollHeight, true);\n",
              "\n",
              "      // Wait for Capture to be clicked.\n",
              "      // await new Promise((resolve) => capture.onclick = resolve);\n",
              "\n",
              "      const canvas = document.createElement('canvas');\n",
              "      canvas.width = video.videoWidth;\n",
              "      canvas.height = video.videoHeight;\n",
              "      canvas.getContext('2d').drawImage(video, 0, 0);\n",
              "      stream.getVideoTracks()[0].stop();\n",
              "      div.remove();\n",
              "      return canvas.toDataURL('image/jpeg', quality);\n",
              "    }\n",
              "    "
            ],
            "text/plain": [
              "<IPython.core.display.Javascript object>"
            ]
          },
          "metadata": {
            "tags": []
          }
        },
        {
          "output_type": "stream",
          "text": [
            "/content/drive/My Drive/DataSetImagens/treino/s05_06.jpg\n"
          ],
          "name": "stdout"
        },
        {
          "output_type": "display_data",
          "data": {
            "application/javascript": [
              "\n",
              "    async function takePhoto(quality) {\n",
              "      const div = document.createElement('div');\n",
              "      const capture = document.createElement('button');\n",
              "      capture.textContent = 'Capture';\n",
              "      div.appendChild(capture);\n",
              "\n",
              "      const video = document.createElement('video');\n",
              "      video.style.display = 'block';\n",
              "      const stream = await navigator.mediaDevices.getUserMedia({video: true});\n",
              "\n",
              "      document.body.appendChild(div);\n",
              "      div.appendChild(video);\n",
              "      video.srcObject = stream;\n",
              "      await video.play();\n",
              "\n",
              "      // Resize the output to fit the video element.\n",
              "      google.colab.output.setIframeHeight(document.documentElement.scrollHeight, true);\n",
              "\n",
              "      // Wait for Capture to be clicked.\n",
              "      // await new Promise((resolve) => capture.onclick = resolve);\n",
              "\n",
              "      const canvas = document.createElement('canvas');\n",
              "      canvas.width = video.videoWidth;\n",
              "      canvas.height = video.videoHeight;\n",
              "      canvas.getContext('2d').drawImage(video, 0, 0);\n",
              "      stream.getVideoTracks()[0].stop();\n",
              "      div.remove();\n",
              "      return canvas.toDataURL('image/jpeg', quality);\n",
              "    }\n",
              "    "
            ],
            "text/plain": [
              "<IPython.core.display.Javascript object>"
            ]
          },
          "metadata": {
            "tags": []
          }
        },
        {
          "output_type": "stream",
          "text": [
            "/content/drive/My Drive/DataSetImagens/teste/s05_07.jpg\n"
          ],
          "name": "stdout"
        },
        {
          "output_type": "display_data",
          "data": {
            "application/javascript": [
              "\n",
              "    async function takePhoto(quality) {\n",
              "      const div = document.createElement('div');\n",
              "      const capture = document.createElement('button');\n",
              "      capture.textContent = 'Capture';\n",
              "      div.appendChild(capture);\n",
              "\n",
              "      const video = document.createElement('video');\n",
              "      video.style.display = 'block';\n",
              "      const stream = await navigator.mediaDevices.getUserMedia({video: true});\n",
              "\n",
              "      document.body.appendChild(div);\n",
              "      div.appendChild(video);\n",
              "      video.srcObject = stream;\n",
              "      await video.play();\n",
              "\n",
              "      // Resize the output to fit the video element.\n",
              "      google.colab.output.setIframeHeight(document.documentElement.scrollHeight, true);\n",
              "\n",
              "      // Wait for Capture to be clicked.\n",
              "      // await new Promise((resolve) => capture.onclick = resolve);\n",
              "\n",
              "      const canvas = document.createElement('canvas');\n",
              "      canvas.width = video.videoWidth;\n",
              "      canvas.height = video.videoHeight;\n",
              "      canvas.getContext('2d').drawImage(video, 0, 0);\n",
              "      stream.getVideoTracks()[0].stop();\n",
              "      div.remove();\n",
              "      return canvas.toDataURL('image/jpeg', quality);\n",
              "    }\n",
              "    "
            ],
            "text/plain": [
              "<IPython.core.display.Javascript object>"
            ]
          },
          "metadata": {
            "tags": []
          }
        },
        {
          "output_type": "stream",
          "text": [
            "/content/drive/My Drive/DataSetImagens/teste/s05_08.jpg\n"
          ],
          "name": "stdout"
        },
        {
          "output_type": "display_data",
          "data": {
            "application/javascript": [
              "\n",
              "    async function takePhoto(quality) {\n",
              "      const div = document.createElement('div');\n",
              "      const capture = document.createElement('button');\n",
              "      capture.textContent = 'Capture';\n",
              "      div.appendChild(capture);\n",
              "\n",
              "      const video = document.createElement('video');\n",
              "      video.style.display = 'block';\n",
              "      const stream = await navigator.mediaDevices.getUserMedia({video: true});\n",
              "\n",
              "      document.body.appendChild(div);\n",
              "      div.appendChild(video);\n",
              "      video.srcObject = stream;\n",
              "      await video.play();\n",
              "\n",
              "      // Resize the output to fit the video element.\n",
              "      google.colab.output.setIframeHeight(document.documentElement.scrollHeight, true);\n",
              "\n",
              "      // Wait for Capture to be clicked.\n",
              "      // await new Promise((resolve) => capture.onclick = resolve);\n",
              "\n",
              "      const canvas = document.createElement('canvas');\n",
              "      canvas.width = video.videoWidth;\n",
              "      canvas.height = video.videoHeight;\n",
              "      canvas.getContext('2d').drawImage(video, 0, 0);\n",
              "      stream.getVideoTracks()[0].stop();\n",
              "      div.remove();\n",
              "      return canvas.toDataURL('image/jpeg', quality);\n",
              "    }\n",
              "    "
            ],
            "text/plain": [
              "<IPython.core.display.Javascript object>"
            ]
          },
          "metadata": {
            "tags": []
          }
        },
        {
          "output_type": "stream",
          "text": [
            "/content/drive/My Drive/DataSetImagens/teste/s05_09.jpg\n"
          ],
          "name": "stdout"
        }
      ]
    },
    {
      "cell_type": "code",
      "metadata": {
        "id": "HuNXqFkgdNsS",
        "colab_type": "code",
        "colab": {
          "base_uri": "https://localhost:8080/",
          "height": 51
        },
        "outputId": "06ea6728-edae-4515-f2f4-16aca3699dda"
      },
      "source": [
        "#Nome das imagens para rodar\n",
        "nome_imagens_treino = []\n",
        "nome_imagens_teste = []\n",
        "#Labels das imagens\n",
        "labels_imagens_treino = []\n",
        "labels_imagens_teste = []\n",
        "\n",
        "from os import walk\n",
        "#Imagens de treino\n",
        "for (dirpath, dirnames, filenames) in walk(path_base+treino):\n",
        "  for arquivo in filenames:\n",
        "    if '.jpg' in arquivo or '.jpeg' in arquivo :\n",
        "      nome_imagens_treino.append(arquivo)\n",
        "      labels_imagens_treino.append(arquivo[1:3])\n",
        "\n",
        "print(len(nome_imagens_treino))\n",
        "\n",
        "#Imagens de teste\n",
        "for (dirpath, dirnames, filenames) in walk(path_base+teste):\n",
        "  for arquivo in filenames:\n",
        "    if '.jpg' in arquivo or '.jpeg' in arquivo :\n",
        "      nome_imagens_teste.append(arquivo)\n",
        "      labels_imagens_teste.append(arquivo[1:3])\n",
        "\n",
        "print(len(nome_imagens_teste))"
      ],
      "execution_count": null,
      "outputs": [
        {
          "output_type": "stream",
          "text": [
            "56\n",
            "27\n"
          ],
          "name": "stdout"
        }
      ]
    },
    {
      "cell_type": "code",
      "metadata": {
        "id": "TggAZhR9fcCR",
        "colab_type": "code",
        "colab": {}
      },
      "source": [
        "import cv2\n",
        "import matplotlib.pyplot as plt\n",
        "%matplotlib inline"
      ],
      "execution_count": null,
      "outputs": []
    },
    {
      "cell_type": "code",
      "metadata": {
        "id": "3teUeLzhffcT",
        "colab_type": "code",
        "colab": {}
      },
      "source": [
        "classificador = cv2.CascadeClassifier('/content/drive/My Drive/haarcascade_frontalface_default.xml')"
      ],
      "execution_count": null,
      "outputs": []
    },
    {
      "cell_type": "code",
      "metadata": {
        "id": "xW048tfgfiZr",
        "colab_type": "code",
        "colab": {
          "base_uri": "https://localhost:8080/",
          "height": 303
        },
        "outputId": "ee9a176a-9bfd-48ec-8f71-c03078426e76"
      },
      "source": [
        "print(path_base+treino+nome_imagens_treino[30])\n",
        "img = cv2.imread(path_base+treino+nome_imagens_treino[30], cv2.IMREAD_GRAYSCALE)\n",
        "faces_detectadas = classificador.detectMultiScale(img, 1.3, 5)\n",
        "img_roi = None\n",
        "for x,y,w,h in faces_detectadas:\n",
        "  img_roi = img[y:y+h, x:x+w]\n",
        "#Para verificar se uma imagem foi detectada\n",
        "if img_roi is not None:\n",
        "  print(img_roi.shape)\n",
        "  plt.imshow(img_roi, cmap='gray')\n",
        "  plt.show()"
      ],
      "execution_count": null,
      "outputs": [
        {
          "output_type": "stream",
          "text": [
            "/content/drive/My Drive/DataSetImagens/treino/s03_02.jpeg\n",
            "(483, 483)\n"
          ],
          "name": "stdout"
        },
        {
          "output_type": "display_data",
          "data": {
            "image/png": "[encoded data removed]",
            "text/plain": [
              "<Figure size 432x288 with 1 Axes>"
            ]
          },
          "metadata": {
            "tags": [],
            "needs_background": "light"
          }
        }
      ]
    },
    {
      "cell_type": "code",
      "metadata": {
        "id": "bBZay_DFh9WG",
        "colab_type": "code",
        "colab": {
          "base_uri": "https://localhost:8080/",
          "height": 986
        },
        "outputId": "6c0f9412-1ffc-4625-cfb8-2e5ef75e75bd"
      },
      "source": [
        "#Labels das imagens\n",
        "labels_imagens_treino = []\n",
        "labels_imagens_teste = []\n",
        "\n",
        "#Imagens tratadas\n",
        "imagens_roi_treino = []\n",
        "imagens_roi_teste = []\n",
        "\n",
        "for nome_imagem in nome_imagens_treino:\n",
        "  print(path_base+treino+nome_imagem)\n",
        "  img = cv2.imread(path_base+treino+nome_imagem, cv2.IMREAD_GRAYSCALE)\n",
        "  faces_detectadas = classificador.detectMultiScale(img, 1.3, 5)\n",
        "  img_roi = None\n",
        "  for x,y,w,h in faces_detectadas:\n",
        "    img_roi = img[y:y+h, x:x+w]\n",
        "  #Para verificar se uma imagem foi detectada\n",
        "  if img_roi is not None:\n",
        "    img_roi = cv2.resize(img_roi, (200,200))\n",
        "    imagens_roi_treino.append(img_roi)\n",
        "    labels_imagens_treino.append(nome_imagem[1:3])\n",
        "print(len(imagens_roi_treino))"
      ],
      "execution_count": null,
      "outputs": [
        {
          "output_type": "stream",
          "text": [
            "/content/drive/My Drive/DataSetImagens/treino/s24_01.jpg\n",
            "/content/drive/My Drive/DataSetImagens/treino/s24_02.jpg\n",
            "/content/drive/My Drive/DataSetImagens/treino/s24_00.jpg\n",
            "/content/drive/My Drive/DataSetImagens/treino/s24_03.jpg\n",
            "/content/drive/My Drive/DataSetImagens/treino/s24_04.jpg\n",
            "/content/drive/My Drive/DataSetImagens/treino/s24_05.jpg\n",
            "/content/drive/My Drive/DataSetImagens/treino/s24_06.jpg\n",
            "/content/drive/My Drive/DataSetImagens/treino/s11_00.jpg\n",
            "/content/drive/My Drive/DataSetImagens/treino/s11_01.jpg\n",
            "/content/drive/My Drive/DataSetImagens/treino/s11_02.jpg\n",
            "/content/drive/My Drive/DataSetImagens/treino/s11_03.jpg\n",
            "/content/drive/My Drive/DataSetImagens/treino/s81_00.jpg\n",
            "/content/drive/My Drive/DataSetImagens/treino/s11_04.jpg\n",
            "/content/drive/My Drive/DataSetImagens/treino/s11_05.jpg\n",
            "/content/drive/My Drive/DataSetImagens/treino/s11_06.jpg\n",
            "/content/drive/My Drive/DataSetImagens/treino/s81_01.jpg\n",
            "/content/drive/My Drive/DataSetImagens/treino/s81_02.jpg\n",
            "/content/drive/My Drive/DataSetImagens/treino/s81_03.jpg\n",
            "/content/drive/My Drive/DataSetImagens/treino/s81_04.jpg\n",
            "/content/drive/My Drive/DataSetImagens/treino/s81_05.jpg\n",
            "/content/drive/My Drive/DataSetImagens/treino/s81_06.jpg\n",
            "/content/drive/My Drive/DataSetImagens/treino/s12_00.jpg\n",
            "/content/drive/My Drive/DataSetImagens/treino/s12_03.jpg\n",
            "/content/drive/My Drive/DataSetImagens/treino/s12_02.jpg\n",
            "/content/drive/My Drive/DataSetImagens/treino/s12_01.jpg\n",
            "/content/drive/My Drive/DataSetImagens/treino/s12_04.jpg\n",
            "/content/drive/My Drive/DataSetImagens/treino/s12_06.jpg\n",
            "/content/drive/My Drive/DataSetImagens/treino/s12_05.jpg\n",
            "/content/drive/My Drive/DataSetImagens/treino/s03_00.jpeg\n",
            "/content/drive/My Drive/DataSetImagens/treino/s03_01.jpeg\n",
            "/content/drive/My Drive/DataSetImagens/treino/s03_02.jpeg\n",
            "/content/drive/My Drive/DataSetImagens/treino/s03_03.jpeg\n",
            "/content/drive/My Drive/DataSetImagens/treino/s03_04.jpeg\n",
            "/content/drive/My Drive/DataSetImagens/treino/s03_05.jpeg\n",
            "/content/drive/My Drive/DataSetImagens/treino/s03_06.jpeg\n",
            "/content/drive/My Drive/DataSetImagens/treino/s08_00.jpg\n",
            "/content/drive/My Drive/DataSetImagens/treino/s08_01.jpg\n",
            "/content/drive/My Drive/DataSetImagens/treino/s08_02.jpg\n",
            "/content/drive/My Drive/DataSetImagens/treino/s08_03.jpg\n",
            "/content/drive/My Drive/DataSetImagens/treino/s08_04.jpg\n",
            "/content/drive/My Drive/DataSetImagens/treino/s08_05.jpg\n",
            "/content/drive/My Drive/DataSetImagens/treino/s08_06.jpg\n",
            "/content/drive/My Drive/DataSetImagens/treino/s07_01.jpg\n",
            "/content/drive/My Drive/DataSetImagens/treino/s07_02.jpg\n",
            "/content/drive/My Drive/DataSetImagens/treino/s07_03.jpg\n",
            "/content/drive/My Drive/DataSetImagens/treino/s07_05.jpg\n",
            "/content/drive/My Drive/DataSetImagens/treino/s07_06.jpg\n",
            "/content/drive/My Drive/DataSetImagens/treino/s07_00.jpg\n",
            "/content/drive/My Drive/DataSetImagens/treino/s07_04.jpg\n",
            "/content/drive/My Drive/DataSetImagens/treino/s05_00.jpg\n",
            "/content/drive/My Drive/DataSetImagens/treino/s05_01.jpg\n",
            "/content/drive/My Drive/DataSetImagens/treino/s05_02.jpg\n",
            "/content/drive/My Drive/DataSetImagens/treino/s05_03.jpg\n",
            "/content/drive/My Drive/DataSetImagens/treino/s05_04.jpg\n",
            "/content/drive/My Drive/DataSetImagens/treino/s05_05.jpg\n",
            "/content/drive/My Drive/DataSetImagens/treino/s05_06.jpg\n",
            "45\n"
          ],
          "name": "stdout"
        }
      ]
    },
    {
      "cell_type": "code",
      "metadata": {
        "id": "e-RusegmiL5Y",
        "colab_type": "code",
        "colab": {
          "base_uri": "https://localhost:8080/",
          "height": 34
        },
        "outputId": "f9e545ec-6b31-4a18-b211-591d9821df79"
      },
      "source": [
        "for nome_imagem in nome_imagens_teste:\n",
        "  # print(path_base+treino+nome_imagem)\n",
        "  img = cv2.imread(path_base+teste+nome_imagem, cv2.IMREAD_GRAYSCALE)\n",
        "  faces_detectadas = classificador.detectMultiScale(img, 1.3, 5)\n",
        "  img_roi = None\n",
        "  for x,y,w,h in faces_detectadas:\n",
        "    img_roi = img[y:y+h, x:x+w]\n",
        "  #Para verificar se uma imagem foi detectada\n",
        "  if img_roi is not None:\n",
        "    img_roi = cv2.resize(img_roi, (200,200))\n",
        "    imagens_roi_teste.append(img_roi)\n",
        "    labels_imagens_teste.append(nome_imagem[1:3])\n",
        "print(len(imagens_roi_teste))"
      ],
      "execution_count": null,
      "outputs": [
        {
          "output_type": "stream",
          "text": [
            "25\n"
          ],
          "name": "stdout"
        }
      ]
    },
    {
      "cell_type": "code",
      "metadata": {
        "id": "qyZoDnIZjmiI",
        "colab_type": "code",
        "colab": {}
      },
      "source": [
        "#Converter os Labels para np.int32\n",
        "import numpy as np\n",
        "labels_imagens_teste = np.asarray(labels_imagens_teste, dtype = np.int32)\n",
        "labels_imagens_treino = np.asarray(labels_imagens_treino, dtype = np.int32)"
      ],
      "execution_count": null,
      "outputs": []
    },
    {
      "cell_type": "code",
      "metadata": {
        "id": "3yOk27zbjoow",
        "colab_type": "code",
        "colab": {}
      },
      "source": [
        "#Para verificar a acurácia do modelo gerado\n",
        "from sklearn.metrics import accuracy_score"
      ],
      "execution_count": null,
      "outputs": []
    },
    {
      "cell_type": "code",
      "metadata": {
        "id": "ZyujLpGcjq72",
        "colab_type": "code",
        "colab": {
          "base_uri": "https://localhost:8080/",
          "height": 68
        },
        "outputId": "11177c84-0c79-4ec5-f369-4559cfba1eb5"
      },
      "source": [
        "#Carrega o modelo de Eingen Faces\n",
        "modelo_eingen = cv2.face.EigenFaceRecognizer_create()\n",
        "#Treinar o modelo de Eingen\n",
        "modelo_eingen.train(imagens_roi_treino,labels_imagens_treino)\n",
        "#Verifica o modelo\n",
        "resultado = modelo_eingen.predict(imagens_roi_teste[5])\n",
        "print(resultado)\n",
        "print(labels_imagens_teste[5])\n",
        "#Verifica a acurácia do modelo de Eingen\n",
        "predicoes_eingen = []\n",
        "for imagem in imagens_roi_teste:\n",
        "  predicoes_eingen.append(modelo_eingen.predict(imagem)[0])\n",
        "\n",
        "resultado_modelo_eingen = accuracy_score(labels_imagens_teste, predicoes_eingen)\n",
        "print(resultado_modelo_eingen)"
      ],
      "execution_count": null,
      "outputs": [
        {
          "output_type": "stream",
          "text": [
            "(11, 3383.8151975727587)\n",
            "11\n",
            "0.92\n"
          ],
          "name": "stdout"
        }
      ]
    },
    {
      "cell_type": "code",
      "metadata": {
        "id": "UlgBZAN0j2KB",
        "colab_type": "code",
        "colab": {
          "base_uri": "https://localhost:8080/",
          "height": 68
        },
        "outputId": "5787b8f5-de58-46c0-ac5b-eb214adcec8b"
      },
      "source": [
        "#Carrega o modelo de FisherFaces\n",
        "modelo_fisher = cv2.face.FisherFaceRecognizer_create()\n",
        "#Treinar o modelo de Fisher\n",
        "modelo_fisher.train(imagens_roi_treino,labels_imagens_treino)\n",
        "#Verifica o modelo\n",
        "resultado = modelo_fisher.predict(imagens_roi_teste[5])\n",
        "print(resultado)\n",
        "print(labels_imagens_teste[5])\n",
        "#Verifica a acurácia do modelo de fisher\n",
        "predicoes_fisher = []\n",
        "for imagem in imagens_roi_teste:\n",
        "  predicoes_fisher.append(modelo_fisher.predict(imagem)[0])\n",
        "\n",
        "resultado_modelo_fisher = accuracy_score(labels_imagens_teste, predicoes_fisher)\n",
        "print(resultado_modelo_fisher)"
      ],
      "execution_count": null,
      "outputs": [
        {
          "output_type": "stream",
          "text": [
            "(11, 746.8322960711323)\n",
            "11\n",
            "0.92\n"
          ],
          "name": "stdout"
        }
      ]
    },
    {
      "cell_type": "code",
      "metadata": {
        "id": "WVZ1H7pJkEBJ",
        "colab_type": "code",
        "colab": {
          "base_uri": "https://localhost:8080/",
          "height": 68
        },
        "outputId": "d69318f8-d5ad-4c46-e879-3e287c0316af"
      },
      "source": [
        "#Carrega o modelo de LBPH\n",
        "modelo_LBPH = cv2.face.LBPHFaceRecognizer_create()\n",
        "#Treinar o modelo de LBPH\n",
        "modelo_LBPH.train(imagens_roi_treino,labels_imagens_treino)\n",
        "#Verifica o modelo\n",
        "resultado = modelo_LBPH.predict(imagens_roi_teste[5])\n",
        "print(resultado)\n",
        "print(labels_imagens_teste[5])\n",
        "#Verifica a acurácia do modelo de LBPH\n",
        "predicoes_LBPH = []\n",
        "for imagem in imagens_roi_teste:\n",
        "  predicoes_LBPH.append(modelo_LBPH.predict(imagem)[0])\n",
        "\n",
        "resultado_modelo_LBPH = accuracy_score(labels_imagens_teste, predicoes_LBPH)\n",
        "print(resultado_modelo_LBPH)"
      ],
      "execution_count": null,
      "outputs": [
        {
          "output_type": "stream",
          "text": [
            "(11, 32.37196375836041)\n",
            "11\n",
            "0.92\n"
          ],
          "name": "stdout"
        }
      ]
    },
    {
      "cell_type": "code",
      "metadata": {
        "id": "NVB3wZOolgVA",
        "colab_type": "code",
        "colab": {}
      },
      "source": [
        "lucasimg = '/content/drive/My Drive/UNADJUSTEDNONRAW_thumb_1b09.jpg'"
      ],
      "execution_count": null,
      "outputs": []
    },
    {
      "cell_type": "code",
      "metadata": {
        "id": "Kb0XVyO_lrvv",
        "colab_type": "code",
        "colab": {
          "base_uri": "https://localhost:8080/",
          "height": 34
        },
        "outputId": "6cec7e66-1204-4ab0-a793-5448d22bce76"
      },
      "source": [
        "#Teste da verdade agora!\n",
        "img = cv2.imread(lucasimg,cv2.IMREAD_GRAYSCALE)\n",
        "\n",
        "faces_detectadas = classificador.detectMultiScale(img, 1.3, 5)\n",
        "img_roi = None\n",
        "for x,y,w,h in faces_detectadas:\n",
        "  img_roi = img[y:y+h, x:x+w]\n",
        "  #Para verificar se uma imagem foi detectada\n",
        "if img_roi is not None:\n",
        "  img_roi = cv2.resize(img_roi, (200,200))\n",
        "  saidas = []\n",
        "  saidas.append(modelo_eingen.predict(img_roi)) \n",
        "  saidas.append(modelo_fisher.predict(img_roi)) \n",
        "  saidas.append(modelo_LBPH.predict(img_roi))\n",
        "  print(saidas) "
      ],
      "execution_count": null,
      "outputs": [
        {
          "output_type": "stream",
          "text": [
            "[(3, 9436.262846276992), (3, 5305.388429314895), (5, 60.31270410042361)]\n"
          ],
          "name": "stdout"
        }
      ]
    },
    {
      "cell_type": "code",
      "metadata": {
        "id": "CNWW2Dh5VUS5",
        "colab_type": "code",
        "colab": {}
      },
      "source": [
        "#Oi 2\n",
        "#arthur gay"
      ],
      "execution_count": null,
      "outputs": []
    }
  ]
}